{
 "cells": [
  {
   "cell_type": "code",
   "execution_count": 11,
   "metadata": {
    "scrolled": false
   },
   "outputs": [
    {
     "name": "stdout",
     "output_type": "stream",
     "text": [
      "The autoreload extension is already loaded. To reload it, use:\n",
      "  %reload_ext autoreload\n"
     ]
    }
   ],
   "source": [
    "%load_ext autoreload\n",
    "%autoreload 2\n",
    "import bellsej as ICA"
   ]
  },
  {
   "cell_type": "code",
   "execution_count": 24,
   "metadata": {},
   "outputs": [
    {
     "name": "stdout",
     "output_type": "stream",
     "text": [
      "Playing mixed track 0\n",
      "Playing mixed track 1\n",
      "Playing mixed track 2\n",
      "Playing mixed track 3\n",
      "Playing mixed track 4\n",
      "Separating tracks ...\n",
      "Playing separated track 0\n",
      "Playing separated track 1\n",
      "Playing separated track 2\n",
      "Playing separated track 3\n",
      "Playing separated track 4\n"
     ]
    }
   ],
   "source": [
    "ICA.main()"
   ]
  },
  {
   "cell_type": "code",
   "execution_count": 16,
   "metadata": {},
   "outputs": [],
   "source": [
    "# Note, W and X are both row matrices\n",
    "mix = np.loadtxt('mix.dat')\n",
    "X = ICA.normalize(mix)"
   ]
  },
  {
   "cell_type": "code",
   "execution_count": 25,
   "metadata": {
    "scrolled": true
   },
   "outputs": [
    {
     "data": {
      "text/plain": [
       "array([[ 0.0092272 , -0.01189988, -0.00997819, -0.00536916,  0.01186695],\n",
       "       [ 0.01686469, -0.01829478, -0.01768224, -0.0024188 ,  0.01724426],\n",
       "       [ 0.0158458 , -0.01580071, -0.01498584, -0.00224533,  0.01916146],\n",
       "       ...,\n",
       "       [ 0.00511558,  0.00585187,  0.01182455,  0.00847932,  0.02478345],\n",
       "       [ 0.04085481, -0.02962349, -0.00649547,  0.03086971,  0.05821818],\n",
       "       [-0.00235097,  0.01181704,  0.02988818,  0.0091322 ,  0.03262757]])"
      ]
     },
     "execution_count": 25,
     "metadata": {},
     "output_type": "execute_result"
    }
   ],
   "source": [
    "X"
   ]
  },
  {
   "cell_type": "code",
   "execution_count": 26,
   "metadata": {},
   "outputs": [
    {
     "name": "stdout",
     "output_type": "stream",
     "text": [
      "Separating tracks ...\n",
      "CPU times: user 1min 51s, sys: 4min 32s, total: 6min 24s\n",
      "Wall time: 1min 38s\n"
     ]
    }
   ],
   "source": [
    "%time W = ICA.unmixer(X)"
   ]
  },
  {
   "cell_type": "code",
   "execution_count": 19,
   "metadata": {},
   "outputs": [
    {
     "data": {
      "text/plain": [
       "array([[ -940.56508818, -1177.67796559, -1177.67796559, -1177.67796559,\n",
       "        -1177.67796559],\n",
       "       [-1177.67796559,  -940.56508818, -1177.67796559, -1177.67796559,\n",
       "        -1177.67796559],\n",
       "       [-1177.67796559, -1177.67796559,  -940.56508818, -1177.67796559,\n",
       "        -1177.67796559],\n",
       "       [-1177.67796559, -1177.67796559, -1177.67796559,  -940.56508818,\n",
       "        -1177.67796559],\n",
       "       [-1177.67796559, -1177.67796559, -1177.67796559, -1177.67796559,\n",
       "         -940.56508818]])"
      ]
     },
     "execution_count": 19,
     "metadata": {},
     "output_type": "execute_result"
    }
   ],
   "source": [
    "W"
   ]
  },
  {
   "cell_type": "code",
   "execution_count": null,
   "metadata": {},
   "outputs": [],
   "source": []
  }
 ],
 "metadata": {
  "kernelspec": {
   "display_name": "Python 3",
   "language": "python",
   "name": "python3"
  },
  "language_info": {
   "codemirror_mode": {
    "name": "ipython",
    "version": 3
   },
   "file_extension": ".py",
   "mimetype": "text/x-python",
   "name": "python",
   "nbconvert_exporter": "python",
   "pygments_lexer": "ipython3",
   "version": "3.6.4"
  }
 },
 "nbformat": 4,
 "nbformat_minor": 2
}
